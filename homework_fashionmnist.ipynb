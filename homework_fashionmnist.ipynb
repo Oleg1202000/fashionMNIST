{
 "cells": [
  {
   "cell_type": "markdown",
   "metadata": {
    "colab_type": "text",
    "id": "y4TIC_99WsxT"
   },
   "source": [
    "---"
   ]
  },
  {
   "cell_type": "markdown",
   "metadata": {
    "colab_type": "text",
    "id": "ezjWeWD7WsxU"
   },
   "source": [
    "<h2 style=\"text-align: center;\"><b>FashionMNIST</b></h2>"
   ]
  },
  {
   "cell_type": "markdown",
   "metadata": {
    "colab_type": "text",
    "id": "1bsX5wbIWsxV"
   },
   "source": [
    "---"
   ]
  },
  {
   "cell_type": "markdown",
   "metadata": {
    "colab_type": "text",
    "id": "k-V-v1F-WsxW"
   },
   "source": [
    "В этом ноутбуке Вам предстоит самостоятельно попрактиковаться в написаноо нейросетей для распознавания датасета, похожего на MNIST, но более интересного -- чёрно-белых изображений одежды."
   ]
  },
  {
   "cell_type": "markdown",
   "metadata": {
    "colab_type": "text",
    "id": "AkmeeD-iWsxX"
   },
   "source": [
    "<h2 style=\"text-align: center;\"><b>FashionMNIST</b></h2>"
   ]
  },
  {
   "cell_type": "markdown",
   "metadata": {
    "colab_type": "text",
    "id": "AygNFOvoWsxY"
   },
   "source": [
    "<img src=\"https://emiliendupont.github.io/imgs/mnist-chicken/mnist-and-fashion-examples.png\">"
   ]
  },
  {
   "cell_type": "markdown",
   "metadata": {
    "colab_type": "text",
    "id": "s-u9DDJYWsxg"
   },
   "source": [
    "<h2 style=\"text-align: center;\"><b>Данные</b></h2>"
   ]
  },
  {
   "cell_type": "markdown",
   "metadata": {
    "colab_type": "text",
    "id": "YNF5C2b_Wsxh"
   },
   "source": [
    "Мы будем работать с картинками одежды (чёрно-белыми, то есть цветовых каналов не 3, а 1). По входной картинке нужно предсказать тип одежды."
   ]
  },
  {
   "cell_type": "code",
   "execution_count": 1,
   "metadata": {
    "colab": {},
    "colab_type": "code",
    "id": "2IYPMzDudZeN"
   },
   "outputs": [
    {
     "name": "stderr",
     "output_type": "stream",
     "text": [
      "/home/Archie/.local/lib/python3.11/site-packages/torchvision/io/image.py:13: UserWarning: Failed to load image Python extension: 'libc10_cuda.so: cannot open shared object file: No such file or directory'If you don't plan on using image functionality from `torchvision.io`, you can ignore this warning. Otherwise, there might be something wrong with your environment. Did you have `libjpeg` or `libpng` installed before building `torchvision` from source?\n",
      "  warn(\n"
     ]
    }
   ],
   "source": [
    "# !pip install torchvision\n",
    "\n",
    "import numpy as np\n",
    "import matplotlib.pyplot as plt\n",
    "from torchvision import transforms\n",
    "\n",
    "import torch\n",
    "import torchvision"
   ]
  },
  {
   "cell_type": "code",
   "execution_count": 2,
   "metadata": {
    "colab": {},
    "colab_type": "code",
    "id": "FCedv50ReIUZ"
   },
   "outputs": [],
   "source": [
    "transform = transforms.Compose(\n",
    "    [transforms.ToTensor()])\n",
    "\n",
    "trainset = torchvision.datasets.FashionMNIST(root='./data', train=True,\n",
    "                                        download=True, transform=transform)\n",
    "trainloader = torch.utils.data.DataLoader(trainset, batch_size=4,\n",
    "                                          shuffle=True, num_workers=2)\n",
    "\n",
    "testset = torchvision.datasets.FashionMNIST(root='./data', train=False,\n",
    "                                       download=True, transform=transform)\n",
    "testloader = torch.utils.data.DataLoader(testset, batch_size=4,\n",
    "                                         shuffle=False, num_workers=2)\n",
    "\n",
    "classes = ('T-shirt/top','Trouser', 'Pullover', 'Dress', 'Coat', 'Sandal', 'Shirt', 'Sneaker', 'Bag', 'Ankle boot')"
   ]
  },
  {
   "cell_type": "markdown",
   "metadata": {
    "colab_type": "text",
    "id": "CZTfJ0dBWszP"
   },
   "source": [
    "Каждая картинка имеет класс от 0 до 9, расшифровка меток класса:  \n",
    "\n",
    "|class_id|class_name|\n",
    "|----|----|\n",
    "|0| T-shirt/top|\n",
    "|1| Trouser|\n",
    "|2| Pullover|\n",
    "|3| Dress|\n",
    "|4| Coat|\n",
    "|5| Sandal|\n",
    "|6| Shirt|\n",
    "|7| Sneaker|\n",
    "|8| Bag|\n",
    "|9| Ankle boot| "
   ]
  },
  {
   "cell_type": "markdown",
   "metadata": {
    "colab_type": "text",
    "id": "tDLDH6ccfJOB"
   },
   "source": [
    "Посмотрите на датасет.\n",
    "* Сколько в нём классов?\n",
    "* Сколько картинок в train? В test?\n",
    "* Равномерно ли распределено количество классов в train датасете (это можно понять, поработав с полем `train_data` у переменной `trainset`)? в test?\n",
    "* Выведите несколько картинок с помощью `pyplot`"
   ]
  },
  {
   "cell_type": "code",
   "execution_count": 3,
   "metadata": {},
   "outputs": [
    {
     "name": "stdout",
     "output_type": "stream",
     "text": [
      "60000\n"
     ]
    }
   ],
   "source": [
    "train_len = len(trainloader.dataset.data)\n",
    "print(train_len)"
   ]
  },
  {
   "cell_type": "code",
   "execution_count": 4,
   "metadata": {},
   "outputs": [
    {
     "name": "stdout",
     "output_type": "stream",
     "text": [
      "10000\n"
     ]
    }
   ],
   "source": [
    "test_len = len(testloader.dataset.data)\n",
    "print(test_len)"
   ]
  },
  {
   "cell_type": "code",
   "execution_count": 5,
   "metadata": {
    "scrolled": true
   },
   "outputs": [
    {
     "data": {
      "text/plain": [
       "torch.Size([60000, 28, 28])"
      ]
     },
     "execution_count": 5,
     "metadata": {},
     "output_type": "execute_result"
    }
   ],
   "source": [
    "trainloader.dataset.data.shape\n"
   ]
  },
  {
   "cell_type": "code",
   "execution_count": 7,
   "metadata": {},
   "outputs": [
    {
     "data": {
      "image/png": "[encoded data removed]",
      "text/plain": [
       "<Figure size 640x480 with 1 Axes>"
      ]
     },
     "metadata": {},
     "output_type": "display_data"
    }
   ],
   "source": [
    "# случайный индекс от 0 до размера тренировочной выборки\n",
    "i = np.random.randint(low=0, high=train_len)\n",
    "\n",
    "plt.imshow(trainloader.dataset.data[i].numpy(), cmap='gray');"
   ]
  },
  {
   "cell_type": "code",
   "execution_count": 7,
   "metadata": {},
   "outputs": [
    {
     "data": {
      "image/png": "[encoded data removed]",
      "text/plain": [
       "<Figure size 640x480 with 1 Axes>"
      ]
     },
     "metadata": {},
     "output_type": "display_data"
    }
   ],
   "source": [
    "# случайный индекс от 0 до размера тестовой выборки\n",
    "i = np.random.randint(low=0, high=test_len)\n",
    "\n",
    "plt.imshow(trainloader.dataset.data[i], cmap='gray');"
   ]
  },
  {
   "cell_type": "markdown",
   "metadata": {
    "colab_type": "text",
    "id": "RkDjjoj2Ws04"
   },
   "source": [
    "<h2 style=\"text-align: center;\"><b>Задание</b></h2>"
   ]
  },
  {
   "cell_type": "markdown",
   "metadata": {
    "colab_type": "text",
    "id": "b_DjMGZPWszt"
   },
   "source": [
    "Используя материалы семинаров по многослойным  и свёрточным сетям, напишите:\n",
    "1. MLP, классифицирующий этот датасет\n",
    "2. Свёрточную сеть, классифицирующую этот датасет\n",
    "3. Сравните их качество (по графикам лосса и по Accuracy Score)\n",
    "\n",
    "Если качество, которое получается у  нейросети, выше 95%, то Вы решили задачу с точностью, которую можно использовать в жизни."
   ]
  },
  {
   "cell_type": "code",
   "execution_count": 8,
   "metadata": {
    "colab": {},
    "colab_type": "code",
    "id": "Ev5LShUSWs06"
   },
   "outputs": [],
   "source": [
    "import torch.nn as nn\n",
    "import torch.nn.functional as F  # Functional"
   ]
  },
  {
   "cell_type": "code",
   "execution_count": 22,
   "metadata": {
    "colab": {},
    "colab_type": "code",
    "id": "P8W0HbJjWs0-"
   },
   "outputs": [],
   "source": [
    "class ConvNet(nn.Module):\n",
    "    def __init__(self):\n",
    "        # вызов конструктора предка\n",
    "        super(ConvNet, self).__init__()\n",
    "        # необходмо заранее знать, сколько каналов у картинки (сейчас = 1),\n",
    "        # которую будем подавать в сеть, больше ничего\n",
    "        # про входящие картинки знать не нужно\n",
    "        \n",
    "        #self.dropout = nn.Dropout(p=0.2)  # Не испльзуется, но пусть будет...\n",
    "        \n",
    "        self.conv1 = nn.Conv2d(in_channels=1, out_channels=20, kernel_size=3, stride=1, padding=1)\n",
    "        self.conv2 = nn.Conv2d(in_channels=20, out_channels=40, kernel_size=3, stride=1, padding=1)\n",
    "        self.conv3 = nn.Conv2d(in_channels=40, out_channels=80, kernel_size=3, stride=1, padding=1)\n",
    "        self.conv4 = nn.Conv2d(in_channels=80, out_channels=160, kernel_size=3, stride=1, padding=1)\n",
    "        \n",
    "        self.avg_pool = nn.AvgPool2d(kernel_size=2, stride=2)\n",
    "        self.max_pool = nn.MaxPool2d(kernel_size=2, stride=2)\n",
    "        \n",
    "        self.bn1 = nn.BatchNorm2d(20)\n",
    "        self.bn2 = nn.BatchNorm2d(40)\n",
    "        self.bn3 = nn.BatchNorm2d(80)\n",
    "        self.bn4 = nn.BatchNorm2d(160)\n",
    "        \n",
    "        self.fc1 = nn.Linear(160 * 7 * 7, 64)\n",
    "        self.fc2 = nn.Linear(64, 32)\n",
    "        self.fc3 = nn.Linear(32, 10)\n",
    "        \n",
    "\n",
    "    def forward(self, x):\n",
    "        \n",
    "        x = self.conv1(x)\n",
    "        x = F.leaky_relu(x)\n",
    "        x = self.bn1(x)\n",
    "        \n",
    "        x = self.conv2(x)\n",
    "        x = F.leaky_relu(x)\n",
    "        x = self.max_pool(x)\n",
    "        x = self.bn2(x)\n",
    "        \n",
    "        x = self.conv3(x)\n",
    "        x = F.leaky_relu(x)\n",
    "        x = self.bn3(x)\n",
    "        \n",
    "        x = self.conv4(x)\n",
    "        x = F.leaky_relu(x)\n",
    "        x = self.max_pool(x)\n",
    "        x = self.bn4(x)\n",
    "        \n",
    "        \n",
    "        #print(x.shape)\n",
    "        x = x.view(-1, 160 * 7 * 7)  # !!!\n",
    "        x = self.fc1(x)\n",
    "        x = F.relu(x)\n",
    "        \n",
    "        x = self.fc2(x)\n",
    "        x = F.relu(x)\n",
    "        \n",
    "        x = self.fc3(x)\n",
    "        x = F.relu(x)\n",
    "        \n",
    "        return x"
   ]
  },
  {
   "cell_type": "code",
   "execution_count": 23,
   "metadata": {
    "colab": {},
    "colab_type": "code",
    "id": "zWNQz-SbWs1A"
   },
   "outputs": [],
   "source": [
    "from tqdm.notebook import tqdm"
   ]
  },
  {
   "cell_type": "code",
   "execution_count": 24,
   "metadata": {
    "scrolled": false
   },
   "outputs": [
    {
     "data": {
      "application/vnd.jupyter.widget-view+json": {
       "model_id": "95c948bc9cba41dfb05a7a8bf802d844",
       "version_major": 2,
       "version_minor": 0
      },
      "text/plain": [
       "  0%|          | 0/10 [00:00<?, ?it/s]"
      ]
     },
     "metadata": {},
     "output_type": "display_data"
    },
    {
     "data": {
      "application/vnd.jupyter.widget-view+json": {
       "model_id": "0794f91ae3c046c0ae7d1c0e9b4fa786",
       "version_major": 2,
       "version_minor": 0
      },
      "text/plain": [
       "  0%|          | 0/15000 [00:00<?, ?it/s]"
      ]
     },
     "metadata": {},
     "output_type": "display_data"
    },
    {
     "name": "stdout",
     "output_type": "stream",
     "text": [
      "[1,  2000] loss: 0.956\n",
      "[1,  4000] loss: 0.430\n",
      "[1,  6000] loss: 0.331\n",
      "[1,  8000] loss: 0.290\n",
      "[1, 10000] loss: 0.281\n",
      "[1, 12000] loss: 0.254\n",
      "[1, 14000] loss: 0.251\n"
     ]
    },
    {
     "data": {
      "application/vnd.jupyter.widget-view+json": {
       "model_id": "180e7089cc5048feb63df3d26ca3e14d",
       "version_major": 2,
       "version_minor": 0
      },
      "text/plain": [
       "  0%|          | 0/15000 [00:00<?, ?it/s]"
      ]
     },
     "metadata": {},
     "output_type": "display_data"
    },
    {
     "name": "stdout",
     "output_type": "stream",
     "text": [
      "[2,  2000] loss: 0.198\n",
      "[2,  4000] loss: 0.201\n",
      "[2,  6000] loss: 0.208\n",
      "[2,  8000] loss: 0.216\n",
      "[2, 10000] loss: 0.200\n",
      "[2, 12000] loss: 0.192\n",
      "[2, 14000] loss: 0.191\n"
     ]
    },
    {
     "data": {
      "application/vnd.jupyter.widget-view+json": {
       "model_id": "18cf802a112b47779e2ab7347e86223c",
       "version_major": 2,
       "version_minor": 0
      },
      "text/plain": [
       "  0%|          | 0/15000 [00:00<?, ?it/s]"
      ]
     },
     "metadata": {},
     "output_type": "display_data"
    },
    {
     "name": "stdout",
     "output_type": "stream",
     "text": [
      "[3,  2000] loss: 0.146\n",
      "[3,  4000] loss: 0.156\n",
      "[3,  6000] loss: 0.144\n",
      "[3,  8000] loss: 0.145\n",
      "[3, 10000] loss: 0.143\n",
      "[3, 12000] loss: 0.164\n",
      "[3, 14000] loss: 0.147\n"
     ]
    },
    {
     "data": {
      "application/vnd.jupyter.widget-view+json": {
       "model_id": "32c748ea7bbb44cfa32394ec48df6fad",
       "version_major": 2,
       "version_minor": 0
      },
      "text/plain": [
       "  0%|          | 0/15000 [00:00<?, ?it/s]"
      ]
     },
     "metadata": {},
     "output_type": "display_data"
    },
    {
     "name": "stdout",
     "output_type": "stream",
     "text": [
      "[4,  2000] loss: 0.101\n",
      "[4,  4000] loss: 0.109\n",
      "[4,  6000] loss: 0.114\n",
      "[4,  8000] loss: 0.110\n",
      "[4, 10000] loss: 0.112\n",
      "[4, 12000] loss: 0.117\n",
      "[4, 14000] loss: 0.117\n"
     ]
    },
    {
     "data": {
      "application/vnd.jupyter.widget-view+json": {
       "model_id": "4d27b55a54254fdc8d3d628e49c48ae1",
       "version_major": 2,
       "version_minor": 0
      },
      "text/plain": [
       "  0%|          | 0/15000 [00:00<?, ?it/s]"
      ]
     },
     "metadata": {},
     "output_type": "display_data"
    },
    {
     "name": "stdout",
     "output_type": "stream",
     "text": [
      "[5,  2000] loss: 0.068\n",
      "[5,  4000] loss: 0.075\n",
      "[5,  6000] loss: 0.086\n",
      "[5,  8000] loss: 0.074\n",
      "[5, 10000] loss: 0.087\n",
      "[5, 12000] loss: 0.084\n",
      "[5, 14000] loss: 0.084\n"
     ]
    },
    {
     "data": {
      "application/vnd.jupyter.widget-view+json": {
       "model_id": "fb345b646eda4df28e2d1bde60e7f989",
       "version_major": 2,
       "version_minor": 0
      },
      "text/plain": [
       "  0%|          | 0/15000 [00:00<?, ?it/s]"
      ]
     },
     "metadata": {},
     "output_type": "display_data"
    },
    {
     "name": "stdout",
     "output_type": "stream",
     "text": [
      "[6,  2000] loss: 0.048\n",
      "[6,  4000] loss: 0.053\n",
      "[6,  6000] loss: 0.059\n",
      "[6,  8000] loss: 0.055\n",
      "[6, 10000] loss: 0.063\n",
      "[6, 12000] loss: 0.065\n",
      "[6, 14000] loss: 0.066\n"
     ]
    },
    {
     "data": {
      "application/vnd.jupyter.widget-view+json": {
       "model_id": "a460f70f6cf24720817c5f41d4e8c5e5",
       "version_major": 2,
       "version_minor": 0
      },
      "text/plain": [
       "  0%|          | 0/15000 [00:00<?, ?it/s]"
      ]
     },
     "metadata": {},
     "output_type": "display_data"
    },
    {
     "name": "stdout",
     "output_type": "stream",
     "text": [
      "[7,  2000] loss: 0.030\n",
      "[7,  4000] loss: 0.040\n",
      "[7,  6000] loss: 0.051\n",
      "[7,  8000] loss: 0.045\n",
      "[7, 10000] loss: 0.049\n",
      "[7, 12000] loss: 0.051\n",
      "[7, 14000] loss: 0.050\n"
     ]
    },
    {
     "data": {
      "application/vnd.jupyter.widget-view+json": {
       "model_id": "e64d3966a52f462fa1219005aeab0272",
       "version_major": 2,
       "version_minor": 0
      },
      "text/plain": [
       "  0%|          | 0/15000 [00:00<?, ?it/s]"
      ]
     },
     "metadata": {},
     "output_type": "display_data"
    },
    {
     "name": "stdout",
     "output_type": "stream",
     "text": [
      "[8,  2000] loss: 0.028\n",
      "[8,  4000] loss: 0.035\n",
      "[8,  6000] loss: 0.035\n",
      "[8,  8000] loss: 0.036\n",
      "[8, 10000] loss: 0.036\n",
      "[8, 12000] loss: 0.039\n",
      "[8, 14000] loss: 0.044\n"
     ]
    },
    {
     "data": {
      "application/vnd.jupyter.widget-view+json": {
       "model_id": "da435fee14dd4fe3a6fa48df4db51eaa",
       "version_major": 2,
       "version_minor": 0
      },
      "text/plain": [
       "  0%|          | 0/15000 [00:00<?, ?it/s]"
      ]
     },
     "metadata": {},
     "output_type": "display_data"
    },
    {
     "name": "stdout",
     "output_type": "stream",
     "text": [
      "[9,  2000] loss: 0.021\n",
      "[9,  4000] loss: 0.028\n",
      "[9,  6000] loss: 0.029\n",
      "[9,  8000] loss: 0.028\n",
      "[9, 10000] loss: 0.037\n",
      "[9, 12000] loss: 0.042\n",
      "[9, 14000] loss: 0.036\n"
     ]
    },
    {
     "data": {
      "application/vnd.jupyter.widget-view+json": {
       "model_id": "19caa853e5194bfabb1b64a7f7ec4f65",
       "version_major": 2,
       "version_minor": 0
      },
      "text/plain": [
       "  0%|          | 0/15000 [00:00<?, ?it/s]"
      ]
     },
     "metadata": {},
     "output_type": "display_data"
    },
    {
     "name": "stdout",
     "output_type": "stream",
     "text": [
      "[10,  2000] loss: 0.019\n",
      "[10,  4000] loss: 0.030\n",
      "[10,  6000] loss: 0.030\n",
      "[10,  8000] loss: 0.028\n",
      "[10, 10000] loss: 0.026\n",
      "[10, 12000] loss: 0.031\n",
      "[10, 14000] loss: 0.036\n",
      "Обучение закончено\n"
     ]
    }
   ],
   "source": [
    "# объявляем сеть\n",
    "net = ConvNet()\n",
    "\n",
    "# выбираем функцию потерь\n",
    "loss_fn = torch.nn.CrossEntropyLoss()\n",
    "\n",
    "\n",
    "   \n",
    "# выбираем алгоритм оптимизации и learning_rate\n",
    "learning_rate = 1e-4\n",
    "optimizer = torch.optim.Adam(net.parameters(), lr=learning_rate)\n",
    "\n",
    "# итерируемся\n",
    "\n",
    "for epoch in tqdm(range(10)):\n",
    "\n",
    "    running_loss = 0.0\n",
    "    for i, batch in enumerate(tqdm(trainloader)):\n",
    "        # так получаем текущий батч\n",
    "        X_batch, y_batch = batch\n",
    "    \n",
    "        # обнуляем веса\n",
    "        optimizer.zero_grad()\n",
    "  \n",
    "        # forward + backward + optimize\n",
    "        y_pred = net(X_batch)\n",
    "        loss = loss_fn(y_pred, y_batch)\n",
    "        loss.backward()\n",
    "        optimizer.step()\n",
    "\n",
    "        # выведем текущий loss\n",
    "        running_loss += loss.item()\n",
    "        # выведем качество каждые 2000 батчей\n",
    "        if i % 2000 == 1999:\n",
    "            print('[%d, %5d] loss: %.3f' %\n",
    "                  (epoch + 1, i + 1, running_loss / 2000))\n",
    "            running_loss = 0.0\n",
    "\n",
    "print('Обучение закончено')\n"
   ]
  },
  {
   "cell_type": "code",
   "execution_count": 25,
   "metadata": {},
   "outputs": [
    {
     "data": {
      "application/vnd.jupyter.widget-view+json": {
       "model_id": "57864add760d4502875a687c0ac6af07",
       "version_major": 2,
       "version_minor": 0
      },
      "text/plain": [
       "  0%|          | 0/2500 [00:00<?, ?it/s]"
      ]
     },
     "metadata": {},
     "output_type": "display_data"
    },
    {
     "name": "stdout",
     "output_type": "stream",
     "text": [
      "Accuracy of T-shirt/top : 91 %\n",
      "Accuracy of Trouser : 99 %\n",
      "Accuracy of Pullover : 86 %\n",
      "Accuracy of Dress : 93 %\n",
      "Accuracy of  Coat : 84 %\n",
      "Accuracy of Sandal : 98 %\n",
      "Accuracy of Shirt : 79 %\n",
      "Accuracy of Sneaker : 97 %\n",
      "Accuracy of   Bag : 97 %\n",
      "Accuracy of Ankle boot : 97 %\n"
     ]
    }
   ],
   "source": [
    "class_correct = list(0. for i in range(10))\n",
    "class_total = list(0. for i in range(10))\n",
    "\n",
    "with torch.no_grad():\n",
    "    for data in tqdm(testloader):\n",
    "        images, labels = data\n",
    "        y_pred = net(images)\n",
    "        _, predicted = torch.max(y_pred, 1)\n",
    "        c = (predicted == labels).squeeze()\n",
    "        for i in range(4):\n",
    "            label = labels[i]\n",
    "            class_correct[label] += c[i].item()\n",
    "            class_total[label] += 1\n",
    "\n",
    "for i in range(10):\n",
    "    print('Accuracy of %5s : %2d %%' % (\n",
    "        classes[i], 100 * class_correct[i] / class_total[i]))"
   ]
  },
  {
   "cell_type": "code",
   "execution_count": 111,
   "metadata": {},
   "outputs": [
    {
     "data": {
      "image/png": "[encoded data removed]",
      "text/plain": [
       "<Figure size 640x480 with 1 Axes>"
      ]
     },
     "metadata": {},
     "output_type": "display_data"
    }
   ],
   "source": [
    "i = np.random.randint(low=0, high=10000)\n",
    "\n",
    "def visualize_result(index):\n",
    "    image = testloader.dataset.data[index].numpy()\n",
    "    plt.imshow(image, cmap='gray')\n",
    "    \n",
    "    y_pred = net(torch.Tensor(image).view(1, 1, 28, 28))\n",
    "    _, predicted = torch.max(y_pred, 1)\n",
    "    \n",
    "    plt.title(f'Predicted: {classes[predicted.numpy()[0]]}')\n",
    "\n",
    "visualize_result(i)"
   ]
  },
  {
   "cell_type": "markdown",
   "metadata": {},
   "source": [
    "MLP:"
   ]
  },
  {
   "cell_type": "code",
   "execution_count": 257,
   "metadata": {},
   "outputs": [],
   "source": [
    "class MLP(nn.Module):\n",
    "    def __init__(self):\n",
    "        super(MLP, self).__init__()\n",
    "        self.fc1 = nn.Linear(784, 120)  # !!!\n",
    "        self.fc2 = nn.Linear(120, 84)\n",
    "        self.fc3 = nn.Linear(84, 10)\n",
    "        \n",
    "\n",
    "    def forward(self, x):\n",
    "        #print(x.shape)\n",
    "        # 4 * 4 * 16\n",
    "        x = x.view(-1, 784)  # !!!\n",
    "        x = F.elu(self.fc1(x))\n",
    "        x = F.elu(self.fc2(x))\n",
    "        x = self.fc3(x)\n",
    "        return x"
   ]
  },
  {
   "cell_type": "code",
   "execution_count": 354,
   "metadata": {
    "scrolled": true
   },
   "outputs": [
    {
     "data": {
      "application/vnd.jupyter.widget-view+json": {
       "model_id": "e9767991add14c34adfd70b8b940db66",
       "version_major": 2,
       "version_minor": 0
      },
      "text/plain": [
       "  0%|          | 0/30 [00:00<?, ?it/s]"
      ]
     },
     "metadata": {},
     "output_type": "display_data"
    },
    {
     "data": {
      "application/vnd.jupyter.widget-view+json": {
       "model_id": "59c5a9cf9b5643729ea7d6b7be09f5c1",
       "version_major": 2,
       "version_minor": 0
      },
      "text/plain": [
       "  0%|          | 0/15000 [00:00<?, ?it/s]"
      ]
     },
     "metadata": {},
     "output_type": "display_data"
    },
    {
     "name": "stdout",
     "output_type": "stream",
     "text": [
      "[1,  2000] loss: 0.960\n",
      "[1,  4000] loss: 0.597\n",
      "[1,  6000] loss: 0.538\n",
      "[1,  8000] loss: 0.504\n",
      "[1, 10000] loss: 0.476\n",
      "[1, 12000] loss: 0.473\n",
      "[1, 14000] loss: 0.466\n"
     ]
    },
    {
     "data": {
      "application/vnd.jupyter.widget-view+json": {
       "model_id": "927a7f235ce04a3fbe5d2d9ed8ab50f8",
       "version_major": 2,
       "version_minor": 0
      },
      "text/plain": [
       "  0%|          | 0/15000 [00:00<?, ?it/s]"
      ]
     },
     "metadata": {},
     "output_type": "display_data"
    },
    {
     "name": "stdout",
     "output_type": "stream",
     "text": [
      "[2,  2000] loss: 0.426\n",
      "[2,  4000] loss: 0.431\n",
      "[2,  6000] loss: 0.414\n",
      "[2,  8000] loss: 0.400\n",
      "[2, 10000] loss: 0.419\n",
      "[2, 12000] loss: 0.409\n",
      "[2, 14000] loss: 0.381\n"
     ]
    },
    {
     "data": {
      "application/vnd.jupyter.widget-view+json": {
       "model_id": "3bdf5299b3e248ddb61dda3ec2d68ca4",
       "version_major": 2,
       "version_minor": 0
      },
      "text/plain": [
       "  0%|          | 0/15000 [00:00<?, ?it/s]"
      ]
     },
     "metadata": {},
     "output_type": "display_data"
    },
    {
     "name": "stdout",
     "output_type": "stream",
     "text": [
      "[3,  2000] loss: 0.398\n",
      "[3,  4000] loss: 0.375\n",
      "[3,  6000] loss: 0.373\n",
      "[3,  8000] loss: 0.388\n",
      "[3, 10000] loss: 0.366\n",
      "[3, 12000] loss: 0.365\n",
      "[3, 14000] loss: 0.368\n"
     ]
    },
    {
     "data": {
      "application/vnd.jupyter.widget-view+json": {
       "model_id": "370c77f70b2942f4af95120e3fb94a22",
       "version_major": 2,
       "version_minor": 0
      },
      "text/plain": [
       "  0%|          | 0/15000 [00:00<?, ?it/s]"
      ]
     },
     "metadata": {},
     "output_type": "display_data"
    },
    {
     "name": "stdout",
     "output_type": "stream",
     "text": [
      "[4,  2000] loss: 0.359\n",
      "[4,  4000] loss: 0.342\n",
      "[4,  6000] loss: 0.361\n",
      "[4,  8000] loss: 0.364\n",
      "[4, 10000] loss: 0.349\n",
      "[4, 12000] loss: 0.343\n",
      "[4, 14000] loss: 0.350\n"
     ]
    },
    {
     "data": {
      "application/vnd.jupyter.widget-view+json": {
       "model_id": "b8cdba1543764953bfd65a734e93edde",
       "version_major": 2,
       "version_minor": 0
      },
      "text/plain": [
       "  0%|          | 0/15000 [00:00<?, ?it/s]"
      ]
     },
     "metadata": {},
     "output_type": "display_data"
    },
    {
     "name": "stdout",
     "output_type": "stream",
     "text": [
      "[5,  2000] loss: 0.326\n",
      "[5,  4000] loss: 0.347\n",
      "[5,  6000] loss: 0.328\n",
      "[5,  8000] loss: 0.342\n",
      "[5, 10000] loss: 0.338\n",
      "[5, 12000] loss: 0.325\n",
      "[5, 14000] loss: 0.336\n"
     ]
    },
    {
     "data": {
      "application/vnd.jupyter.widget-view+json": {
       "model_id": "9d60a8d4e2c443df86a0b82ed5561291",
       "version_major": 2,
       "version_minor": 0
      },
      "text/plain": [
       "  0%|          | 0/15000 [00:00<?, ?it/s]"
      ]
     },
     "metadata": {},
     "output_type": "display_data"
    },
    {
     "name": "stdout",
     "output_type": "stream",
     "text": [
      "[6,  2000] loss: 0.327\n",
      "[6,  4000] loss: 0.326\n",
      "[6,  6000] loss: 0.317\n",
      "[6,  8000] loss: 0.311\n",
      "[6, 10000] loss: 0.323\n",
      "[6, 12000] loss: 0.323\n",
      "[6, 14000] loss: 0.320\n"
     ]
    },
    {
     "data": {
      "application/vnd.jupyter.widget-view+json": {
       "model_id": "db356b340ac949569728c1628cd8a7b9",
       "version_major": 2,
       "version_minor": 0
      },
      "text/plain": [
       "  0%|          | 0/15000 [00:00<?, ?it/s]"
      ]
     },
     "metadata": {},
     "output_type": "display_data"
    },
    {
     "name": "stdout",
     "output_type": "stream",
     "text": [
      "[7,  2000] loss: 0.312\n",
      "[7,  4000] loss: 0.292\n",
      "[7,  6000] loss: 0.301\n",
      "[7,  8000] loss: 0.316\n",
      "[7, 10000] loss: 0.308\n",
      "[7, 12000] loss: 0.312\n",
      "[7, 14000] loss: 0.312\n"
     ]
    },
    {
     "data": {
      "application/vnd.jupyter.widget-view+json": {
       "model_id": "1178edd0ad4d4dc8a88fedb57e311977",
       "version_major": 2,
       "version_minor": 0
      },
      "text/plain": [
       "  0%|          | 0/15000 [00:00<?, ?it/s]"
      ]
     },
     "metadata": {},
     "output_type": "display_data"
    },
    {
     "name": "stdout",
     "output_type": "stream",
     "text": [
      "[8,  2000] loss: 0.302\n",
      "[8,  4000] loss: 0.295\n",
      "[8,  6000] loss: 0.303\n",
      "[8,  8000] loss: 0.298\n",
      "[8, 10000] loss: 0.305\n",
      "[8, 12000] loss: 0.302\n",
      "[8, 14000] loss: 0.289\n"
     ]
    },
    {
     "data": {
      "application/vnd.jupyter.widget-view+json": {
       "model_id": "28da89ce0be945e08903ce4aea0cd7d5",
       "version_major": 2,
       "version_minor": 0
      },
      "text/plain": [
       "  0%|          | 0/15000 [00:00<?, ?it/s]"
      ]
     },
     "metadata": {},
     "output_type": "display_data"
    },
    {
     "name": "stdout",
     "output_type": "stream",
     "text": [
      "[9,  2000] loss: 0.313\n",
      "[9,  4000] loss: 0.296\n",
      "[9,  6000] loss: 0.275\n",
      "[9,  8000] loss: 0.275\n",
      "[9, 10000] loss: 0.286\n",
      "[9, 12000] loss: 0.277\n",
      "[9, 14000] loss: 0.294\n"
     ]
    },
    {
     "data": {
      "application/vnd.jupyter.widget-view+json": {
       "model_id": "c5292cfc08cf4b748f3fbe9a1bc4d220",
       "version_major": 2,
       "version_minor": 0
      },
      "text/plain": [
       "  0%|          | 0/15000 [00:00<?, ?it/s]"
      ]
     },
     "metadata": {},
     "output_type": "display_data"
    },
    {
     "name": "stdout",
     "output_type": "stream",
     "text": [
      "[10,  2000] loss: 0.283\n",
      "[10,  4000] loss: 0.286\n",
      "[10,  6000] loss: 0.279\n",
      "[10,  8000] loss: 0.272\n",
      "[10, 10000] loss: 0.281\n",
      "[10, 12000] loss: 0.286\n",
      "[10, 14000] loss: 0.282\n"
     ]
    },
    {
     "data": {
      "application/vnd.jupyter.widget-view+json": {
       "model_id": "d75fb1e160ac458d99d3cec529cfbca2",
       "version_major": 2,
       "version_minor": 0
      },
      "text/plain": [
       "  0%|          | 0/15000 [00:00<?, ?it/s]"
      ]
     },
     "metadata": {},
     "output_type": "display_data"
    },
    {
     "name": "stdout",
     "output_type": "stream",
     "text": [
      "[11,  2000] loss: 0.274\n",
      "[11,  4000] loss: 0.275\n",
      "[11,  6000] loss: 0.268\n",
      "[11,  8000] loss: 0.259\n",
      "[11, 10000] loss: 0.269\n",
      "[11, 12000] loss: 0.290\n",
      "[11, 14000] loss: 0.260\n"
     ]
    },
    {
     "data": {
      "application/vnd.jupyter.widget-view+json": {
       "model_id": "b6f72174f0164649925bb7092ccc15be",
       "version_major": 2,
       "version_minor": 0
      },
      "text/plain": [
       "  0%|          | 0/15000 [00:00<?, ?it/s]"
      ]
     },
     "metadata": {},
     "output_type": "display_data"
    },
    {
     "name": "stdout",
     "output_type": "stream",
     "text": [
      "[12,  2000] loss: 0.259\n",
      "[12,  4000] loss: 0.263\n",
      "[12,  6000] loss: 0.262\n",
      "[12,  8000] loss: 0.262\n",
      "[12, 10000] loss: 0.262\n",
      "[12, 12000] loss: 0.269\n",
      "[12, 14000] loss: 0.267\n"
     ]
    },
    {
     "data": {
      "application/vnd.jupyter.widget-view+json": {
       "model_id": "a98e099a913b4ea4bacd8a34055849d2",
       "version_major": 2,
       "version_minor": 0
      },
      "text/plain": [
       "  0%|          | 0/15000 [00:00<?, ?it/s]"
      ]
     },
     "metadata": {},
     "output_type": "display_data"
    },
    {
     "name": "stdout",
     "output_type": "stream",
     "text": [
      "[13,  2000] loss: 0.262\n",
      "[13,  4000] loss: 0.241\n",
      "[13,  6000] loss: 0.250\n",
      "[13,  8000] loss: 0.259\n",
      "[13, 10000] loss: 0.265\n",
      "[13, 12000] loss: 0.264\n",
      "[13, 14000] loss: 0.255\n"
     ]
    },
    {
     "data": {
      "application/vnd.jupyter.widget-view+json": {
       "model_id": "72a62cfde8644c8fb24b0efa5a89b815",
       "version_major": 2,
       "version_minor": 0
      },
      "text/plain": [
       "  0%|          | 0/15000 [00:00<?, ?it/s]"
      ]
     },
     "metadata": {},
     "output_type": "display_data"
    },
    {
     "name": "stdout",
     "output_type": "stream",
     "text": [
      "[14,  2000] loss: 0.260\n",
      "[14,  4000] loss: 0.243\n",
      "[14,  6000] loss: 0.254\n",
      "[14,  8000] loss: 0.249\n",
      "[14, 10000] loss: 0.247\n",
      "[14, 12000] loss: 0.245\n",
      "[14, 14000] loss: 0.249\n"
     ]
    },
    {
     "data": {
      "application/vnd.jupyter.widget-view+json": {
       "model_id": "e1b9b40b055e414199908ab78243a1f6",
       "version_major": 2,
       "version_minor": 0
      },
      "text/plain": [
       "  0%|          | 0/15000 [00:00<?, ?it/s]"
      ]
     },
     "metadata": {},
     "output_type": "display_data"
    },
    {
     "name": "stdout",
     "output_type": "stream",
     "text": [
      "[15,  2000] loss: 0.246\n",
      "[15,  4000] loss: 0.254\n",
      "[15,  6000] loss: 0.236\n",
      "[15,  8000] loss: 0.240\n",
      "[15, 10000] loss: 0.249\n",
      "[15, 12000] loss: 0.249\n",
      "[15, 14000] loss: 0.242\n"
     ]
    },
    {
     "data": {
      "application/vnd.jupyter.widget-view+json": {
       "model_id": "46d0b3e58f5c45e8abe852d8a1d1fefb",
       "version_major": 2,
       "version_minor": 0
      },
      "text/plain": [
       "  0%|          | 0/15000 [00:00<?, ?it/s]"
      ]
     },
     "metadata": {},
     "output_type": "display_data"
    },
    {
     "name": "stdout",
     "output_type": "stream",
     "text": [
      "[16,  2000] loss: 0.241\n",
      "[16,  4000] loss: 0.243\n",
      "[16,  6000] loss: 0.232\n",
      "[16,  8000] loss: 0.234\n",
      "[16, 10000] loss: 0.241\n",
      "[16, 12000] loss: 0.234\n",
      "[16, 14000] loss: 0.244\n"
     ]
    },
    {
     "data": {
      "application/vnd.jupyter.widget-view+json": {
       "model_id": "636aff82e5d8403a98c362bb309f7c1c",
       "version_major": 2,
       "version_minor": 0
      },
      "text/plain": [
       "  0%|          | 0/15000 [00:00<?, ?it/s]"
      ]
     },
     "metadata": {},
     "output_type": "display_data"
    },
    {
     "name": "stdout",
     "output_type": "stream",
     "text": [
      "[17,  2000] loss: 0.241\n",
      "[17,  4000] loss: 0.234\n",
      "[17,  6000] loss: 0.232\n",
      "[17,  8000] loss: 0.242\n",
      "[17, 10000] loss: 0.223\n",
      "[17, 12000] loss: 0.224\n",
      "[17, 14000] loss: 0.235\n"
     ]
    },
    {
     "data": {
      "application/vnd.jupyter.widget-view+json": {
       "model_id": "c7477ba9d8f641d7bea1d5f6c54f09af",
       "version_major": 2,
       "version_minor": 0
      },
      "text/plain": [
       "  0%|          | 0/15000 [00:00<?, ?it/s]"
      ]
     },
     "metadata": {},
     "output_type": "display_data"
    },
    {
     "name": "stdout",
     "output_type": "stream",
     "text": [
      "[18,  2000] loss: 0.207\n",
      "[18,  4000] loss: 0.239\n",
      "[18,  6000] loss: 0.224\n",
      "[18,  8000] loss: 0.226\n",
      "[18, 10000] loss: 0.224\n",
      "[18, 12000] loss: 0.220\n",
      "[18, 14000] loss: 0.242\n"
     ]
    },
    {
     "data": {
      "application/vnd.jupyter.widget-view+json": {
       "model_id": "f904cc6b377a4117bb8294ecd04d5345",
       "version_major": 2,
       "version_minor": 0
      },
      "text/plain": [
       "  0%|          | 0/15000 [00:00<?, ?it/s]"
      ]
     },
     "metadata": {},
     "output_type": "display_data"
    },
    {
     "name": "stdout",
     "output_type": "stream",
     "text": [
      "[19,  2000] loss: 0.219\n",
      "[19,  4000] loss: 0.217\n",
      "[19,  6000] loss: 0.221\n",
      "[19,  8000] loss: 0.225\n",
      "[19, 10000] loss: 0.216\n",
      "[19, 12000] loss: 0.223\n",
      "[19, 14000] loss: 0.231\n"
     ]
    },
    {
     "data": {
      "application/vnd.jupyter.widget-view+json": {
       "model_id": "f49f1af8b7cd456598c9d25f8e9c9a2a",
       "version_major": 2,
       "version_minor": 0
      },
      "text/plain": [
       "  0%|          | 0/15000 [00:00<?, ?it/s]"
      ]
     },
     "metadata": {},
     "output_type": "display_data"
    },
    {
     "name": "stdout",
     "output_type": "stream",
     "text": [
      "[20,  2000] loss: 0.205\n",
      "[20,  4000] loss: 0.226\n",
      "[20,  6000] loss: 0.223\n",
      "[20,  8000] loss: 0.228\n",
      "[20, 10000] loss: 0.215\n",
      "[20, 12000] loss: 0.215\n",
      "[20, 14000] loss: 0.222\n"
     ]
    },
    {
     "data": {
      "application/vnd.jupyter.widget-view+json": {
       "model_id": "ecd2a677172d4bd8a4c2e6d98b34d490",
       "version_major": 2,
       "version_minor": 0
      },
      "text/plain": [
       "  0%|          | 0/15000 [00:00<?, ?it/s]"
      ]
     },
     "metadata": {},
     "output_type": "display_data"
    },
    {
     "name": "stdout",
     "output_type": "stream",
     "text": [
      "[21,  2000] loss: 0.218\n",
      "[21,  4000] loss: 0.212\n",
      "[21,  6000] loss: 0.214\n",
      "[21,  8000] loss: 0.202\n",
      "[21, 10000] loss: 0.213\n",
      "[21, 12000] loss: 0.208\n",
      "[21, 14000] loss: 0.226\n"
     ]
    },
    {
     "data": {
      "application/vnd.jupyter.widget-view+json": {
       "model_id": "6550bc87bf7c460d9be1acda4b86bdba",
       "version_major": 2,
       "version_minor": 0
      },
      "text/plain": [
       "  0%|          | 0/15000 [00:00<?, ?it/s]"
      ]
     },
     "metadata": {},
     "output_type": "display_data"
    },
    {
     "name": "stdout",
     "output_type": "stream",
     "text": [
      "[22,  2000] loss: 0.209\n",
      "[22,  4000] loss: 0.198\n",
      "[22,  6000] loss: 0.222\n",
      "[22,  8000] loss: 0.200\n",
      "[22, 10000] loss: 0.212\n",
      "[22, 12000] loss: 0.209\n",
      "[22, 14000] loss: 0.213\n"
     ]
    },
    {
     "data": {
      "application/vnd.jupyter.widget-view+json": {
       "model_id": "8d6a0c302dd84d0b96639d47de3ab8f9",
       "version_major": 2,
       "version_minor": 0
      },
      "text/plain": [
       "  0%|          | 0/15000 [00:00<?, ?it/s]"
      ]
     },
     "metadata": {},
     "output_type": "display_data"
    },
    {
     "name": "stdout",
     "output_type": "stream",
     "text": [
      "[23,  2000] loss: 0.192\n",
      "[23,  4000] loss: 0.205\n",
      "[23,  6000] loss: 0.203\n",
      "[23,  8000] loss: 0.196\n",
      "[23, 10000] loss: 0.214\n",
      "[23, 12000] loss: 0.212\n",
      "[23, 14000] loss: 0.202\n"
     ]
    },
    {
     "data": {
      "application/vnd.jupyter.widget-view+json": {
       "model_id": "712f6dd47c7b4b8d80a85075ccd58fdf",
       "version_major": 2,
       "version_minor": 0
      },
      "text/plain": [
       "  0%|          | 0/15000 [00:00<?, ?it/s]"
      ]
     },
     "metadata": {},
     "output_type": "display_data"
    },
    {
     "name": "stdout",
     "output_type": "stream",
     "text": [
      "[24,  2000] loss: 0.199\n",
      "[24,  4000] loss: 0.199\n",
      "[24,  6000] loss: 0.194\n",
      "[24,  8000] loss: 0.205\n",
      "[24, 10000] loss: 0.203\n",
      "[24, 12000] loss: 0.195\n",
      "[24, 14000] loss: 0.204\n"
     ]
    },
    {
     "data": {
      "application/vnd.jupyter.widget-view+json": {
       "model_id": "2bcf6c2f88554f30b1961afbdd6f68dd",
       "version_major": 2,
       "version_minor": 0
      },
      "text/plain": [
       "  0%|          | 0/15000 [00:00<?, ?it/s]"
      ]
     },
     "metadata": {},
     "output_type": "display_data"
    },
    {
     "name": "stdout",
     "output_type": "stream",
     "text": [
      "[25,  2000] loss: 0.193\n",
      "[25,  4000] loss: 0.197\n",
      "[25,  6000] loss: 0.189\n",
      "[25,  8000] loss: 0.195\n",
      "[25, 10000] loss: 0.200\n",
      "[25, 12000] loss: 0.205\n",
      "[25, 14000] loss: 0.192\n"
     ]
    },
    {
     "data": {
      "application/vnd.jupyter.widget-view+json": {
       "model_id": "707ff9420d9b491f86221208a795e810",
       "version_major": 2,
       "version_minor": 0
      },
      "text/plain": [
       "  0%|          | 0/15000 [00:00<?, ?it/s]"
      ]
     },
     "metadata": {},
     "output_type": "display_data"
    },
    {
     "name": "stdout",
     "output_type": "stream",
     "text": [
      "[26,  2000] loss: 0.192\n",
      "[26,  4000] loss: 0.176\n",
      "[26,  6000] loss: 0.198\n",
      "[26,  8000] loss: 0.187\n",
      "[26, 10000] loss: 0.197\n",
      "[26, 12000] loss: 0.196\n",
      "[26, 14000] loss: 0.189\n"
     ]
    },
    {
     "data": {
      "application/vnd.jupyter.widget-view+json": {
       "model_id": "25bb99f1114544f4a292e4c0f744e47e",
       "version_major": 2,
       "version_minor": 0
      },
      "text/plain": [
       "  0%|          | 0/15000 [00:00<?, ?it/s]"
      ]
     },
     "metadata": {},
     "output_type": "display_data"
    },
    {
     "name": "stdout",
     "output_type": "stream",
     "text": [
      "[27,  2000] loss: 0.192\n",
      "[27,  4000] loss: 0.204\n",
      "[27,  6000] loss: 0.178\n",
      "[27,  8000] loss: 0.196\n",
      "[27, 10000] loss: 0.184\n",
      "[27, 12000] loss: 0.186\n",
      "[27, 14000] loss: 0.176\n"
     ]
    },
    {
     "data": {
      "application/vnd.jupyter.widget-view+json": {
       "model_id": "5678425456a1413bb65ffb087e6fe32d",
       "version_major": 2,
       "version_minor": 0
      },
      "text/plain": [
       "  0%|          | 0/15000 [00:00<?, ?it/s]"
      ]
     },
     "metadata": {},
     "output_type": "display_data"
    },
    {
     "name": "stdout",
     "output_type": "stream",
     "text": [
      "[28,  2000] loss: 0.185\n",
      "[28,  4000] loss: 0.182\n",
      "[28,  6000] loss: 0.180\n",
      "[28,  8000] loss: 0.185\n",
      "[28, 10000] loss: 0.185\n",
      "[28, 12000] loss: 0.195\n",
      "[28, 14000] loss: 0.180\n"
     ]
    },
    {
     "data": {
      "application/vnd.jupyter.widget-view+json": {
       "model_id": "db8b192a2c86493a8d0d02b5cc0d6e9e",
       "version_major": 2,
       "version_minor": 0
      },
      "text/plain": [
       "  0%|          | 0/15000 [00:00<?, ?it/s]"
      ]
     },
     "metadata": {},
     "output_type": "display_data"
    },
    {
     "name": "stdout",
     "output_type": "stream",
     "text": [
      "[29,  2000] loss: 0.181\n",
      "[29,  4000] loss: 0.175\n",
      "[29,  6000] loss: 0.185\n",
      "[29,  8000] loss: 0.179\n",
      "[29, 10000] loss: 0.180\n",
      "[29, 12000] loss: 0.181\n",
      "[29, 14000] loss: 0.180\n"
     ]
    },
    {
     "data": {
      "application/vnd.jupyter.widget-view+json": {
       "model_id": "68c4599c77f044248c07a8bab687403f",
       "version_major": 2,
       "version_minor": 0
      },
      "text/plain": [
       "  0%|          | 0/15000 [00:00<?, ?it/s]"
      ]
     },
     "metadata": {},
     "output_type": "display_data"
    },
    {
     "name": "stdout",
     "output_type": "stream",
     "text": [
      "[30,  2000] loss: 0.170\n",
      "[30,  4000] loss: 0.179\n",
      "[30,  6000] loss: 0.178\n",
      "[30,  8000] loss: 0.176\n",
      "[30, 10000] loss: 0.174\n",
      "[30, 12000] loss: 0.180\n",
      "[30, 14000] loss: 0.176\n",
      "Обучение закончено\n"
     ]
    }
   ],
   "source": [
    "# объявляем сеть\n",
    "net_mlp = MLP()\n",
    "\n",
    "# выбираем функцию потерь\n",
    "loss_fn = torch.nn.CrossEntropyLoss()\n",
    "\n",
    "\n",
    "   \n",
    "# выбираем алгоритм оптимизации и learning_rate\n",
    "learning_rate = 1e-4\n",
    "optimizer = torch.optim.Adam(net_mlp.parameters(), lr=learning_rate)\n",
    "\n",
    "# итерируемся\n",
    "\n",
    "for epoch in tqdm(range(30)):\n",
    "\n",
    "    running_loss = 0.0\n",
    "    for i, batch in enumerate(tqdm(trainloader)):\n",
    "        # так получаем текущий батч\n",
    "        X_batch, y_batch = batch\n",
    "    \n",
    "        # обнуляем веса\n",
    "        optimizer.zero_grad()\n",
    "  \n",
    "        # forward + backward + optimize\n",
    "        y_pred = net_mlp(X_batch)\n",
    "        loss = loss_fn(y_pred, y_batch)\n",
    "        loss.backward()\n",
    "        optimizer.step()\n",
    "\n",
    "        # выведем текущий loss\n",
    "        running_loss += loss.item()\n",
    "        # выведем качество каждые 2000 батчей\n",
    "        if i % 2000 == 1999:\n",
    "            print('[%d, %5d] loss: %.3f' %\n",
    "                  (epoch + 1, i + 1, running_loss / 2000))\n",
    "            running_loss = 0.0\n",
    "\n",
    "print('Обучение закончено')"
   ]
  },
  {
   "cell_type": "code",
   "execution_count": 355,
   "metadata": {},
   "outputs": [
    {
     "name": "stdout",
     "output_type": "stream",
     "text": [
      "Accuracy of T-shirt/top : 86 %\n",
      "Accuracy of Trouser : 97 %\n",
      "Accuracy of Pullover : 79 %\n",
      "Accuracy of Dress : 87 %\n",
      "Accuracy of  Coat : 82 %\n",
      "Accuracy of Sandal : 94 %\n",
      "Accuracy of Shirt : 73 %\n",
      "Accuracy of Sneaker : 94 %\n",
      "Accuracy of   Bag : 96 %\n",
      "Accuracy of Ankle boot : 96 %\n"
     ]
    }
   ],
   "source": [
    "class_correct = list(0. for i in range(10))\n",
    "class_total = list(0. for i in range(10))\n",
    "\n",
    "with torch.no_grad():\n",
    "    for data in testloader:\n",
    "        images, labels = data\n",
    "        y_pred = net_mlp(images)\n",
    "        _, predicted = torch.max(y_pred, 1)\n",
    "        c = (predicted == labels).squeeze()\n",
    "        for i in range(4):\n",
    "            label = labels[i]\n",
    "            class_correct[label] += c[i].item()\n",
    "            class_total[label] += 1\n",
    "\n",
    "for i in range(10):\n",
    "    print('Accuracy of %5s : %2d %%' % (\n",
    "        classes[i], 100 * class_correct[i] / class_total[i]))"
   ]
  },
  {
   "cell_type": "code",
   "execution_count": 269,
   "metadata": {},
   "outputs": [
    {
     "data": {
      "image/png": "[encoded data removed]",
      "text/plain": [
       "<Figure size 640x480 with 1 Axes>"
      ]
     },
     "metadata": {},
     "output_type": "display_data"
    }
   ],
   "source": [
    "i = np.random.randint(low=0, high=10000)\n",
    "\n",
    "def visualize_result(index):\n",
    "    image = testloader.dataset.test_data[index].numpy()\n",
    "    plt.imshow(image, cmap='gray')\n",
    "    \n",
    "    y_pred = net_mlp(torch.Tensor(image).view(1, 1, 28, 28))\n",
    "    _, predicted = torch.max(y_pred, 1)\n",
    "    \n",
    "    plt.title(f'Predicted: {classes[predicted.numpy()[0]]}')\n",
    "\n",
    "visualize_result(i)"
   ]
  }
 ],
 "metadata": {
  "colab": {
   "collapsed_sections": [],
   "name": "homework_fashionmnist.ipynb",
   "provenance": [],
   "version": "0.3.2"
  },
  "kernelspec": {
   "display_name": "Python 3 (ipykernel)",
   "language": "python",
   "name": "python3"
  },
  "language_info": {
   "codemirror_mode": {
    "name": "ipython",
    "version": 3
   },
   "file_extension": ".py",
   "mimetype": "text/x-python",
   "name": "python",
   "nbconvert_exporter": "python",
   "pygments_lexer": "ipython3",
   "version": "3.11.3"
  }
 },
 "nbformat": 4,
 "nbformat_minor": 1
}
